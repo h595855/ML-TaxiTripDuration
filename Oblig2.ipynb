
import numpy as np, pandas as pd, seaborn as sns, matplotlib.pyplot as plt
